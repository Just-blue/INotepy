{
 "cells": [
  {
   "cell_type": "markdown",
   "metadata": {},
   "source": [
    "# 技术分享"
   ]
  },
  {
   "cell_type": "markdown",
   "metadata": {},
   "source": [
    "* [regui](https://jex.im/regulex/)\n",
    "* [regexpal](https://www.regexpal.com/)"
   ]
  },
  {
   "cell_type": "code",
   "execution_count": null,
   "metadata": {},
   "outputs": [],
   "source": [
    "import re"
   ]
  },
  {
   "cell_type": "markdown",
   "metadata": {},
   "source": [
    "# 正则表达式"
   ]
  },
  {
   "cell_type": "markdown",
   "metadata": {},
   "source": [
    "## 1.1 边界问题"
   ]
  },
  {
   "cell_type": "code",
   "execution_count": 180,
   "metadata": {},
   "outputs": [],
   "source": [
    "line = 'The colors of the rainbow have many colors, and the rainbow doonot  have a single colors.'"
   ]
  },
  {
   "cell_type": "code",
   "execution_count": 189,
   "metadata": {},
   "outputs": [
    {
     "data": {
      "text/plain": [
       "[' colors ', ' doonot ', ' single ']"
      ]
     },
     "execution_count": 189,
     "metadata": {},
     "output_type": "execute_result"
    }
   ],
   "source": [
    "re.findall(r'\\s\\w{6}\\s',line)"
   ]
  },
  {
   "cell_type": "code",
   "execution_count": null,
   "metadata": {},
   "outputs": [],
   "source": [
    "### 1.1 \"\\b\""
   ]
  },
  {
   "cell_type": "code",
   "execution_count": 158,
   "metadata": {},
   "outputs": [],
   "source": []
  },
  {
   "cell_type": "markdown",
   "metadata": {},
   "source": [
    "> 一句话总结：简单地说，实现正则表达式引擎的有两种方式：DFA 自动机（Deterministic Final Automata 确定型有穷自动机）和 NFA 自动机（Non deterministic Finite Automaton 不确定型有穷自动机"
   ]
  },
  {
   "cell_type": "markdown",
   "metadata": {},
   "source": [
    "### 正则表达式的进阶用法\n",
    "## 2.1 零宽断言\n",
    "    * 断言：就正则可以指明在指定的内容的前面或后面会出现满足指定规则的内容,断言只是匹配位置,不占字符\n",
    "    * 零宽：就是没有宽度,也就是说，匹配结果里是不会返回断言本身，而且还能继续下次匹配"
   ]
  },
  {
   "cell_type": "code",
   "execution_count": null,
   "metadata": {},
   "outputs": [],
   "source": [
    "string=\"<div>antzone\""
   ]
  },
  {
   "cell_type": "code",
   "execution_count": null,
   "metadata": {},
   "outputs": [],
   "source": [
    "parten = re.compile('^(?=<)<[^>]+>\\w+')"
   ]
  },
  {
   "cell_type": "code",
   "execution_count": null,
   "metadata": {},
   "outputs": [],
   "source": [
    "re.search(parten,string).group()"
   ]
  },
  {
   "cell_type": "code",
   "execution_count": 176,
   "metadata": {},
   "outputs": [],
   "source": [
    "string = 'asas323321'"
   ]
  },
  {
   "cell_type": "code",
   "execution_count": 177,
   "metadata": {},
   "outputs": [
    {
     "data": {
      "text/plain": [
       "'asas323,321'"
      ]
     },
     "execution_count": 177,
     "metadata": {},
     "output_type": "execute_result"
    }
   ],
   "source": [
    "re.sub('(?<=\\d)(?=(\\d{3})+(?!\\d))', ',',string)"
   ]
  },
  {
   "cell_type": "code",
   "execution_count": null,
   "metadata": {},
   "outputs": [],
   "source": [
    "re.sub('(?=(\\d{3}))', ',',string)"
   ]
  },
  {
   "cell_type": "markdown",
   "metadata": {},
   "source": [
    "## 平衡组/递归匹配"
   ]
  },
  {
   "cell_type": "code",
   "execution_count": 191,
   "metadata": {},
   "outputs": [],
   "source": [
    "posture = '( 100 * ( 50 + 15 ) )'"
   ]
  },
  {
   "cell_type": "code",
   "execution_count": null,
   "metadata": {},
   "outputs": [],
   "source": []
  },
  {
   "cell_type": "markdown",
   "metadata": {},
   "source": [
    "# 高效匹配"
   ]
  },
  {
   "cell_type": "markdown",
   "metadata": {},
   "source": [
    "## fnmatch\n",
    "> 使用 Unix Shell 中常用的通配符(比如 *.py , Dat[0-9]*.csv 等)去匹配文本字符串\n",
    "------------------------\n",
    "[`fnmatch`](https://link.jianshu.com/?t=https%3A%2F%2Fdocs.python.org%2F3.8%2Flibrary%2Ffnmatch.html%23module-fnmatch) — Unix **_filename_** pattern matching\n",
    "\n",
    "| Pattern | Meaning |\n",
    "| --- | --- |\n",
    "| * | matches everything |\n",
    "| ? | matches any single character |\n",
    "| [seq] | matches any character in seq |\n",
    "| [!seq] | matches any character not in seq |\n",
    "\n",
    "如果要匹配文件名或目录名中的'*'或'?'，可使用'[*]'或'[?]'来匹配。此外，在该模块中，文件名分隔符 (Unix 中的'/') 和以'.'开头的文件名，二者都被当为普通字符正常处理，都可使用通配符'*'或'?'来匹配。\n",
    "\n",
    "\n",
    "### 1.1 fnmatch.fnmatch(filename, pattern)\n",
    "\n",
    "判断 filename 是否符合 pattern，返回 True 或 False。  \n",
    "执行前会使用 os.path.normcase(path) 进行路径规范化处理，之后再比较。这里的 filename 并不必须是文件名或目录名，只要是字符串就可以与 pattern 比较。\n",
    "\n",
    "> [`os.path.normcase(path)`](https://link.jianshu.com/?t=https%3A%2F%2Fdocs.python.org%2F3.8%2Flibrary%2Fos.path.html%23os.path.normcase)的作用是，对于 Unix 和 Mac 系统，不做任何操作返回 path。对于大小写敏感的系统 (如 Windows，Unix 和 Mac 中的对于路径名是大小写不敏感的)，其会将 path 全部转为小写。对于 Windows 系统，其还会将斜线'/'转为反斜线'\\\\'。\n"
   ]
  },
  {
   "cell_type": "code",
   "execution_count": null,
   "metadata": {},
   "outputs": [],
   "source": [
    "import fnmatch"
   ]
  },
  {
   "cell_type": "code",
   "execution_count": null,
   "metadata": {},
   "outputs": [],
   "source": [
    "fnmatch.fnmatch('foo.txt', '*.txt')"
   ]
  },
  {
   "cell_type": "code",
   "execution_count": null,
   "metadata": {},
   "outputs": [],
   "source": [
    "fnmatch.fnmatch('foo5.txt', '?oo[0-9].*')"
   ]
  },
  {
   "cell_type": "code",
   "execution_count": null,
   "metadata": {},
   "outputs": [],
   "source": [
    "names = ['Dat1.csv', 'Dat2.csv', 'config.ini', 'foo.py']"
   ]
  },
  {
   "cell_type": "code",
   "execution_count": null,
   "metadata": {},
   "outputs": [],
   "source": [
    "[name for name in names if fnmatch.fnmatch(name, 'Dat*.csv')]"
   ]
  },
  {
   "cell_type": "code",
   "execution_count": null,
   "metadata": {},
   "outputs": [],
   "source": [
    "import os\n",
    "for file in os.listdir('.'):\n",
    "    if fnmatch.fnmatch(file, 'G0[0-1]\\d_?\\d+.*'):\n",
    "        print(file)"
   ]
  },
  {
   "cell_type": "markdown",
   "metadata": {},
   "source": [
    "### 1.2 fnmatch.fnmatchcase(filename, pattern)\n",
    "\n",
    "与 fnmatch.fnmatch() 大体相同，不过没有使用 os.path.normcase(path) 处理两个参数。所以不论系统类型，都进行的是大小写敏感匹配。"
   ]
  },
  {
   "cell_type": "code",
   "execution_count": null,
   "metadata": {},
   "outputs": [],
   "source": [
    "\"\"\"\n",
    "在Mac/Linux下返回的是False，因为os.path.normcase(path)没有改变参数大小写。\n",
    "而在Windonws下返回的是True，因为os.path.normcase(path)将参数都转为了小写。\n",
    "\"\"\"\n",
    "\n",
    "fnmatch.fnmatch('ASC', 'a*')"
   ]
  },
  {
   "cell_type": "code",
   "execution_count": null,
   "metadata": {},
   "outputs": [],
   "source": [
    "filenames = [\n",
    "    'G0001.txt',\n",
    "    'G0002.TXT',\n",
    "    'G0003.TXT',\n",
    "    'G0004.txt',\n",
    "]\n",
    "[filename for filename in filenames if fnmatch.fnmatchcase(filename, '*.TXT')]"
   ]
  },
  {
   "cell_type": "markdown",
   "metadata": {},
   "source": [
    "### 1.3 fnmatch.filter(names, pattern)\n",
    "names 为一字符串列表，其执行的操作类似,\n",
    "但是效率更高。"
   ]
  },
  {
   "cell_type": "code",
   "execution_count": null,
   "metadata": {},
   "outputs": [],
   "source": [
    "fnmatch.filter(filenames, '*.TXT')"
   ]
  },
  {
   "cell_type": "markdown",
   "metadata": {},
   "source": [
    "### 1.4 fnmatch.translate(pattern)\n",
    "将 pattern 转为正则表达式的形式。\n"
   ]
  },
  {
   "cell_type": "markdown",
   "metadata": {},
   "source": [
    "## glob\n",
    "\n",
    "[`glob`](https://link.jianshu.com/?t=https%3A%2F%2Fdocs.python.org%2F3.8%2Flibrary%2Fglob.html%23module-glob) — Unix style **_pathname_** pattern expansion \n",
    "\n",
    "\n",
    "glob 用于找到所有符合 pattern 的路径名，用的也是 Unix shell 规则，并以任意顺序返回找到的文件、目录名。该模块使用 [`os.scandir()`](https://link.jianshu.com/?t=https%3A%2F%2Fdocs.python.org%2F3.8%2Flibrary%2Fos.html%23os.scandir)和 [`fnmatch.fnmatch()`](https://link.jianshu.com/?t=https%3A%2F%2Fdocs.python.org%2F3.8%2Flibrary%2Ffnmatch.html%23fnmatch.fnmatch)实现。  \n",
    "与 [`fnmatch.fnmatch()`](https://link.jianshu.com/?t=https%3A%2F%2Fdocs.python.org%2F3.8%2Flibrary%2Ffnmatch.html%23fnmatch.fnmatch)不同，对于以'.'开头的文件名 (也就是隐藏文件)，glob 把其当为一种特殊情况，也就是使用 \"\\*\" 时匹配不到，'.*'才可以匹配到。glob 支持的通配符与 fnmatch 相同，不过 glob 多支持一个\" ** \"通配符。"
   ]
  },
  {
   "cell_type": "markdown",
   "metadata": {},
   "source": [
    "### 2.1 glob.glob(pathname, *, recursive=False)\n",
    "\n",
    "返回符合 pathname 形式的文件、目录名列表。**_pathname_** 可以为绝对路径或相对路径形式，其中可以包括支持的通配符。  \n",
    "如果 **_recursive_** 为 True，则通配符'**'会匹配子目录下的所有文件、目录、子目录，在大的目录树下是有会很费时间。如果 **_recursive_** 为 False，通配符'**'的功能和'*'的功能相同。"
   ]
  },
  {
   "cell_type": "code",
   "execution_count": null,
   "metadata": {},
   "outputs": [],
   "source": [
    "import glob"
   ]
  },
  {
   "cell_type": "code",
   "execution_count": null,
   "metadata": {},
   "outputs": [],
   "source": [
    "\"\"\"\n",
    "匹配当前目录下所有的目录名和非隐藏文件名\n",
    "Signature: glob.glob(pathname, *, recursive=False)\n",
    "\"\"\"\n",
    "# glob.glob('*')\n",
    "# glob.glob('./**')\n",
    "glob.glob('./local/**',recursive=True)  "
   ]
  },
  {
   "cell_type": "markdown",
   "metadata": {},
   "source": [
    "### 2.2 glob.glob1(dirname, pattern)"
   ]
  },
  {
   "cell_type": "code",
   "execution_count": null,
   "metadata": {},
   "outputs": [],
   "source": [
    "\"\"\"\n",
    "匹配指定目录下所有的目录名和非隐藏文件名\n",
    "Signature: glob.glob1(dirname, pattern)\n",
    "\"\"\"\n",
    "glob.glob1('local','*')  "
   ]
  },
  {
   "cell_type": "markdown",
   "metadata": {},
   "source": [
    "### 2.3 glob.escape(pathname)\n",
    "\n",
    "将 pathname 中的通配符 ('?', '*' 和 '[') 转义。\n"
   ]
  },
  {
   "cell_type": "code",
   "execution_count": null,
   "metadata": {},
   "outputs": [],
   "source": [
    "glob.escape('./**.?.*.[a-z]')"
   ]
  },
  {
   "cell_type": "markdown",
   "metadata": {},
   "source": [
    "## glom"
   ]
  },
  {
   "cell_type": "markdown",
   "metadata": {},
   "source": [
    "> PYTHONIC 的方式来处理内嵌的数据\n",
    "\n",
    "* 对于嵌套数据结构的基于路径式的访问\n",
    "* 可读，有意义的错误消息\n",
    "* 声明性数据转换，使用轻量级，Pythonic 规范\n",
    "* 内置数据探索和调试功能"
   ]
  },
  {
   "cell_type": "markdown",
   "metadata": {},
   "source": [
    "### 3.1 原始处理嵌套数据"
   ]
  },
  {
   "cell_type": "code",
   "execution_count": 129,
   "metadata": {},
   "outputs": [],
   "source": [
    "data = {'a': {'b': {'c': 'd'}}}\n",
    "# data2 = {'a': {'b': None}}"
   ]
  },
  {
   "cell_type": "code",
   "execution_count": 126,
   "metadata": {},
   "outputs": [
    {
     "data": {
      "text/plain": [
       "'d'"
      ]
     },
     "execution_count": 126,
     "metadata": {},
     "output_type": "execute_result"
    }
   ],
   "source": [
    "data['a']['b']['c']\n",
    "# data.get('a').get('b').get('c')\n",
    "# data.get('a', {}).get('b',{}).get('c')"
   ]
  },
  {
   "cell_type": "markdown",
   "metadata": {},
   "source": [
    "### 3.2 使用glom"
   ]
  },
  {
   "cell_type": "code",
   "execution_count": 112,
   "metadata": {},
   "outputs": [],
   "source": [
    "from glom import glom\n",
    "# from itertools import chain"
   ]
  },
  {
   "cell_type": "code",
   "execution_count": 130,
   "metadata": {},
   "outputs": [
    {
     "data": {
      "text/plain": [
       "'d'"
      ]
     },
     "execution_count": 130,
     "metadata": {},
     "output_type": "execute_result"
    }
   ],
   "source": [
    "glom(data, 'a.b.c') "
   ]
  },
  {
   "cell_type": "markdown",
   "metadata": {},
   "source": [
    "### 3.2.1  Going Beyond Access\n",
    "\n",
    "`Signature: glom(target, spec, **kwargs)`\n",
    "* target 目标数据，可以是字典，列表，或其他任意的对象\n",
    "* spec  我们想要的输出格式 【specifications】， 定义你自己所需要的格式"
   ]
  },
  {
   "cell_type": "code",
   "execution_count": 148,
   "metadata": {},
   "outputs": [],
   "source": [
    "target = {'something':{'food':{'fruit': [{'name':'apple','count':100},{'name':'banana','count':50}]}}}"
   ]
  },
  {
   "cell_type": "code",
   "execution_count": 149,
   "metadata": {},
   "outputs": [
    {
     "data": {
      "text/plain": [
       "['apple', 'banana']"
      ]
     },
     "execution_count": 149,
     "metadata": {},
     "output_type": "execute_result"
    }
   ],
   "source": [
    "glom(target, ('something.food.fruit', ['name']))"
   ]
  },
  {
   "cell_type": "markdown",
   "metadata": {},
   "source": [
    "那么现在新需求来了，我们想得到这个数据里面的名字和数量，并储存备用"
   ]
  },
  {
   "cell_type": "code",
   "execution_count": 153,
   "metadata": {},
   "outputs": [
    {
     "data": {
      "text/plain": [
       "{'fruit': ['apple', 'banana'], 'sum': [100, 50]}"
      ]
     },
     "execution_count": 153,
     "metadata": {},
     "output_type": "execute_result"
    }
   ],
   "source": [
    "spec = {'fruit': ('something.food.fruit', ['name']),\n",
    "        'sum':('something.food.fruit', ['count'])}\n",
    "\n",
    "glom(target,spec)"
   ]
  },
  {
   "cell_type": "markdown",
   "metadata": {},
   "source": [
    "### 3.2.2 glom.Path(*path_parts)"
   ]
  },
  {
   "cell_type": "code",
   "execution_count": 154,
   "metadata": {},
   "outputs": [],
   "source": [
    "from glom import glom, Path\n",
    "\n",
    "target = {\"a\": {\"b\": 1, \"c.d\": 2, 2: 3}}    \n"
   ]
  },
  {
   "cell_type": "code",
   "execution_count": 155,
   "metadata": {},
   "outputs": [
    {
     "name": "stdout",
     "output_type": "stream",
     "text": [
      "2\n",
      "3\n"
     ]
    }
   ],
   "source": [
    "print(glom(target, Path(\"a\", \"c.d\")))\n",
    "print(glom(target, Path(\"a\", 2)))"
   ]
  }
 ],
 "metadata": {
  "kernelspec": {
   "display_name": "Python 3",
   "language": "python",
   "name": "python3"
  },
  "language_info": {
   "codemirror_mode": {
    "name": "ipython",
    "version": 3
   },
   "file_extension": ".py",
   "mimetype": "text/x-python",
   "name": "python",
   "nbconvert_exporter": "python",
   "pygments_lexer": "ipython3",
   "version": "3.7.3"
  }
 },
 "nbformat": 4,
 "nbformat_minor": 2
}
