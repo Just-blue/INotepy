{
 "cells": [
  {
   "cell_type": "markdown",
   "metadata": {},
   "source": [
    "## oss上传文件"
   ]
  },
  {
   "cell_type": "code",
   "execution_count": 8,
   "metadata": {},
   "outputs": [],
   "source": [
    "import os\n",
    "from loguru import  logger"
   ]
  },
  {
   "cell_type": "code",
   "execution_count": 4,
   "metadata": {},
   "outputs": [],
   "source": [
    "\n",
    "PROJECT_ROOT = '/home/projectmanager2/chenranfang/KS/'\n",
    "INPUT = os.path.join(PROJECT_ROOT, \"wav\")\n",
    "DST = \"KS\"\n",
    "UPDIR = os.path.join(PROJECT_ROOT, \"UPWAVS\")\n"
   ]
  },
  {
   "cell_type": "code",
   "execution_count": null,
   "metadata": {},
   "outputs": [],
   "source": [
    "\n",
    "def cp_upwavs(input, upwavs):\n",
    "    if not os.path.exists(upwavs):\n",
    "        os.mkdir(upwavs)\n",
    "\n",
    "    for root, dirs, files in os.walk(input):\n",
    "        for file in files:\n",
    "            file_path = os.path.join(root, file)\n",
    "            if not file.endswith(\"wav\"):\n",
    "                continue\n",
    "            shutil.copy(file_path, upwavs)\n",
    "            logger.info(f\"复制{file_path}中...\")\n",
    "\n",
    "\n",
    "def delete_UP(path):\n",
    "    cmd = f'rm -r {path}'\n",
    "    os.system(cmd)\n",
    "\n"
   ]
  },
  {
   "cell_type": "code",
   "execution_count": 6,
   "metadata": {},
   "outputs": [],
   "source": [
    "\n",
    "def oss_transport(ready_, target_dir):\n",
    "    cmd = f\"ossutil cp -r -u {ready_} oss://cn-wav-crowd/{target_dir}/\"\n",
    "    logger.info(cmd)\n",
    "    os.system(cmd)"
   ]
  },
  {
   "cell_type": "code",
   "execution_count": 9,
   "metadata": {},
   "outputs": [
    {
     "name": "stderr",
     "output_type": "stream",
     "text": [
      "2019-06-03 17:14:26.369 | INFO     | __main__:oss_transport:4 - ossutil cp -r -u /home/projectmanager2/chenranfang/KS/wav oss://cn-wav-crowd/KS/\n"
     ]
    }
   ],
   "source": [
    "oss_transport(INPUT,DST)"
   ]
  }
 ],
 "metadata": {
  "kernelspec": {
   "display_name": "Python 3",
   "language": "python",
   "name": "python3"
  },
  "language_info": {
   "codemirror_mode": {
    "name": "ipython",
    "version": 3
   },
   "file_extension": ".py",
   "mimetype": "text/x-python",
   "name": "python",
   "nbconvert_exporter": "python",
   "pygments_lexer": "ipython3",
   "version": "3.7.3"
  }
 },
 "nbformat": 4,
 "nbformat_minor": 2
}
