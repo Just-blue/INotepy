{
 "cells": [
  {
   "cell_type": "markdown",
   "metadata": {},
   "source": [
    "## 文本对应txt\n",
    "> wavname：文本名<br>text:文本内容\n"
   ]
  },
  {
   "cell_type": "code",
   "execution_count": 15,
   "metadata": {},
   "outputs": [],
   "source": [
    "! mv config.ini /home/projectmanager2/chenranfang/KS"
   ]
  },
  {
   "cell_type": "code",
   "execution_count": 3,
   "metadata": {},
   "outputs": [],
   "source": [
    "import os"
   ]
  },
  {
   "cell_type": "code",
   "execution_count": 14,
   "metadata": {},
   "outputs": [],
   "source": [
    "input_ = '/home/projectmanager2/chenranfang/KS/wav'\n",
    "output = 'config.ini'\n",
    "\n",
    "fi = open(output,'w',encoding='utf-8')\n",
    "count = 0\n",
    "for root,dirs,files in os.walk(input_):\n",
    "    for file in files:\n",
    "        if file.endswith('txt'):\n",
    "            fname = file.rstrip('.txt')\n",
    "            count += 1\n",
    "            file_path = os.path.join(root,file)\n",
    "            with open(file_path,'r',encoding='utf-8') as f:\n",
    "                text = f.read().replace('\\n',' ')\n",
    "            fi.write(f'{fname}\\t{text}\\n')\n",
    "fi.close()"
   ]
  }
 ],
 "metadata": {
  "kernelspec": {
   "display_name": "Python 3",
   "language": "python",
   "name": "python3"
  },
  "language_info": {
   "codemirror_mode": {
    "name": "ipython",
    "version": 3
   },
   "file_extension": ".py",
   "mimetype": "text/x-python",
   "name": "python",
   "nbconvert_exporter": "python",
   "pygments_lexer": "ipython3",
   "version": "3.7.3"
  }
 },
 "nbformat": 4,
 "nbformat_minor": 2
}
